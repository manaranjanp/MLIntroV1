{
 "cells": [
  {
   "cell_type": "markdown",
   "metadata": {},
   "source": [
    "# Regression Example: Used Car Price Prediction\n",
    "\n",
    "<img src=\"mlproblems.png\" alt=\"ML Algorithms\" width=\"800\"/>\n",
    "\n",
    "Regression analysis is a set of ML algorithms for estimating the relationships between a dependent (continuous) variable (also called the 'outcome' or 'response' variable) and one or more independent variables (often called 'predictors', or 'features').\n",
    "\n",
    "Source: https://en.wikipedia.org/wiki/Regression_analysis\n",
    "\n",
    "Other References:\n",
    "\n",
    "https://hbr.org/2015/11/a-refresher-on-regression-analysis"
   ]
  },
  {
   "cell_type": "markdown",
   "metadata": {},
   "source": [
    "### Loading the Dataset"
   ]
  },
  {
   "cell_type": "code",
   "execution_count": 58,
   "metadata": {},
   "outputs": [],
   "source": [
    "import pandas as pd\n",
    "import numpy as np\n",
    "import matplotlib.pyplot as plt\n",
    "import seaborn as sn"
   ]
  },
  {
   "cell_type": "code",
   "execution_count": 59,
   "metadata": {},
   "outputs": [],
   "source": [
    "cars_df = pd.read_csv( \"../EDA/new_used_car.csv\" )"
   ]
  },
  {
   "cell_type": "code",
   "execution_count": 60,
   "metadata": {},
   "outputs": [
    {
     "data": {
      "text/html": [
       "<div>\n",
       "<style scoped>\n",
       "    .dataframe tbody tr th:only-of-type {\n",
       "        vertical-align: middle;\n",
       "    }\n",
       "\n",
       "    .dataframe tbody tr th {\n",
       "        vertical-align: top;\n",
       "    }\n",
       "\n",
       "    .dataframe thead th {\n",
       "        text-align: right;\n",
       "    }\n",
       "</style>\n",
       "<table border=\"1\" class=\"dataframe\">\n",
       "  <thead>\n",
       "    <tr style=\"text-align: right;\">\n",
       "      <th></th>\n",
       "      <th>Location</th>\n",
       "      <th>Fuel_Type</th>\n",
       "      <th>Transmission</th>\n",
       "      <th>Owner_Type</th>\n",
       "      <th>Seats</th>\n",
       "      <th>Price</th>\n",
       "      <th>age</th>\n",
       "      <th>make</th>\n",
       "      <th>model</th>\n",
       "      <th>mileage_new</th>\n",
       "      <th>engine_new</th>\n",
       "      <th>power_new</th>\n",
       "      <th>KM_Driven</th>\n",
       "    </tr>\n",
       "  </thead>\n",
       "  <tbody>\n",
       "    <tr>\n",
       "      <th>2808</th>\n",
       "      <td>Mumbai</td>\n",
       "      <td>Diesel</td>\n",
       "      <td>Manual</td>\n",
       "      <td>Second</td>\n",
       "      <td>5.0</td>\n",
       "      <td>4.50</td>\n",
       "      <td>8</td>\n",
       "      <td>maruti</td>\n",
       "      <td>swift</td>\n",
       "      <td>23.40</td>\n",
       "      <td>1248.0</td>\n",
       "      <td>74.00</td>\n",
       "      <td>80</td>\n",
       "    </tr>\n",
       "    <tr>\n",
       "      <th>364</th>\n",
       "      <td>Coimbatore</td>\n",
       "      <td>Petrol</td>\n",
       "      <td>Automatic</td>\n",
       "      <td>Second</td>\n",
       "      <td>5.0</td>\n",
       "      <td>5.08</td>\n",
       "      <td>6</td>\n",
       "      <td>hyundai</td>\n",
       "      <td>i10</td>\n",
       "      <td>16.95</td>\n",
       "      <td>1197.0</td>\n",
       "      <td>78.90</td>\n",
       "      <td>41</td>\n",
       "    </tr>\n",
       "    <tr>\n",
       "      <th>712</th>\n",
       "      <td>Chennai</td>\n",
       "      <td>Petrol</td>\n",
       "      <td>Automatic</td>\n",
       "      <td>Second</td>\n",
       "      <td>5.0</td>\n",
       "      <td>4.25</td>\n",
       "      <td>4</td>\n",
       "      <td>maruti</td>\n",
       "      <td>celerio</td>\n",
       "      <td>23.10</td>\n",
       "      <td>998.0</td>\n",
       "      <td>67.04</td>\n",
       "      <td>12</td>\n",
       "    </tr>\n",
       "    <tr>\n",
       "      <th>1936</th>\n",
       "      <td>Pune</td>\n",
       "      <td>Diesel</td>\n",
       "      <td>Manual</td>\n",
       "      <td>Second</td>\n",
       "      <td>7.0</td>\n",
       "      <td>5.90</td>\n",
       "      <td>8</td>\n",
       "      <td>maruti</td>\n",
       "      <td>ertiga</td>\n",
       "      <td>20.77</td>\n",
       "      <td>1248.0</td>\n",
       "      <td>88.76</td>\n",
       "      <td>105</td>\n",
       "    </tr>\n",
       "    <tr>\n",
       "      <th>1276</th>\n",
       "      <td>Bangalore</td>\n",
       "      <td>Petrol</td>\n",
       "      <td>Manual</td>\n",
       "      <td>Second</td>\n",
       "      <td>5.0</td>\n",
       "      <td>4.35</td>\n",
       "      <td>7</td>\n",
       "      <td>honda</td>\n",
       "      <td>amaze</td>\n",
       "      <td>18.00</td>\n",
       "      <td>1198.0</td>\n",
       "      <td>86.70</td>\n",
       "      <td>44</td>\n",
       "    </tr>\n",
       "  </tbody>\n",
       "</table>\n",
       "</div>"
      ],
      "text/plain": [
       "        Location Fuel_Type Transmission Owner_Type  Seats  Price  age  \\\n",
       "2808      Mumbai    Diesel       Manual     Second    5.0   4.50    8   \n",
       "364   Coimbatore    Petrol    Automatic     Second    5.0   5.08    6   \n",
       "712      Chennai    Petrol    Automatic     Second    5.0   4.25    4   \n",
       "1936        Pune    Diesel       Manual     Second    7.0   5.90    8   \n",
       "1276   Bangalore    Petrol       Manual     Second    5.0   4.35    7   \n",
       "\n",
       "         make    model  mileage_new  engine_new  power_new  KM_Driven  \n",
       "2808   maruti    swift        23.40      1248.0      74.00         80  \n",
       "364   hyundai      i10        16.95      1197.0      78.90         41  \n",
       "712    maruti  celerio        23.10       998.0      67.04         12  \n",
       "1936   maruti   ertiga        20.77      1248.0      88.76        105  \n",
       "1276    honda    amaze        18.00      1198.0      86.70         44  "
      ]
     },
     "execution_count": 60,
     "metadata": {},
     "output_type": "execute_result"
    }
   ],
   "source": [
    "cars_df.sample(5)"
   ]
  },
  {
   "cell_type": "code",
   "execution_count": 61,
   "metadata": {},
   "outputs": [
    {
     "name": "stdout",
     "output_type": "stream",
     "text": [
      "<class 'pandas.core.frame.DataFrame'>\n",
      "RangeIndex: 3064 entries, 0 to 3063\n",
      "Data columns (total 13 columns):\n",
      " #   Column        Non-Null Count  Dtype  \n",
      "---  ------        --------------  -----  \n",
      " 0   Location      3064 non-null   object \n",
      " 1   Fuel_Type     3064 non-null   object \n",
      " 2   Transmission  3064 non-null   object \n",
      " 3   Owner_Type    3064 non-null   object \n",
      " 4   Seats         3063 non-null   float64\n",
      " 5   Price         3064 non-null   float64\n",
      " 6   age           3064 non-null   int64  \n",
      " 7   make          3064 non-null   object \n",
      " 8   model         3064 non-null   object \n",
      " 9   mileage_new   3064 non-null   float64\n",
      " 10  engine_new    3064 non-null   float64\n",
      " 11  power_new     3064 non-null   float64\n",
      " 12  KM_Driven     3064 non-null   int64  \n",
      "dtypes: float64(5), int64(2), object(6)\n",
      "memory usage: 311.3+ KB\n"
     ]
    }
   ],
   "source": [
    "cars_df.info()"
   ]
  },
  {
   "cell_type": "markdown",
   "metadata": {},
   "source": [
    "## Building a simple linear regression model\n",
    "\n",
    "Assumes linear relationship between features and outcome variable."
   ]
  },
  {
   "cell_type": "markdown",
   "metadata": {},
   "source": [
    "### Setting X and Y Variables"
   ]
  },
  {
   "cell_type": "code",
   "execution_count": 62,
   "metadata": {},
   "outputs": [],
   "source": [
    "X = pd.DataFrame(cars_df['KM_Driven'])\n",
    "y = cars_df['Price']"
   ]
  },
  {
   "cell_type": "markdown",
   "metadata": {},
   "source": [
    "### Splitting the dataset"
   ]
  },
  {
   "cell_type": "code",
   "execution_count": 63,
   "metadata": {},
   "outputs": [],
   "source": [
    "from sklearn.model_selection import train_test_split"
   ]
  },
  {
   "cell_type": "code",
   "execution_count": 64,
   "metadata": {},
   "outputs": [],
   "source": [
    "X_train, X_test, y_train, y_test = train_test_split(X,\n",
    "                                                    y,\n",
    "                                                    train_size = 0.8,\n",
    "                                                    random_state = 80)"
   ]
  },
  {
   "cell_type": "code",
   "execution_count": 65,
   "metadata": {},
   "outputs": [
    {
     "data": {
      "text/plain": [
       "(2451, 1)"
      ]
     },
     "execution_count": 65,
     "metadata": {},
     "output_type": "execute_result"
    }
   ],
   "source": [
    "X_train.shape"
   ]
  },
  {
   "cell_type": "code",
   "execution_count": 66,
   "metadata": {},
   "outputs": [
    {
     "data": {
      "text/plain": [
       "(613, 1)"
      ]
     },
     "execution_count": 66,
     "metadata": {},
     "output_type": "execute_result"
    }
   ],
   "source": [
    "X_test.shape"
   ]
  },
  {
   "cell_type": "markdown",
   "metadata": {},
   "source": [
    "### Observing the relationship"
   ]
  },
  {
   "cell_type": "code",
   "execution_count": 67,
   "metadata": {},
   "outputs": [
    {
     "data": {
      "image/png": "[encoded data removed]",
      "text/plain": [
       "<Figure size 360x360 with 1 Axes>"
      ]
     },
     "metadata": {
      "needs_background": "light"
     },
     "output_type": "display_data"
    }
   ],
   "source": [
    "sn.lmplot( data = cars_df.sample(100),\n",
    "           x = 'KM_Driven',\n",
    "           y = 'Price',\n",
    "           fit_reg = False);"
   ]
  },
  {
   "cell_type": "markdown",
   "metadata": {},
   "source": [
    "### Building the model"
   ]
  },
  {
   "cell_type": "code",
   "execution_count": 68,
   "metadata": {},
   "outputs": [],
   "source": [
    "from sklearn.linear_model import LinearRegression"
   ]
  },
  {
   "cell_type": "code",
   "execution_count": 69,
   "metadata": {},
   "outputs": [
    {
     "data": {
      "text/plain": [
       "LinearRegression()"
      ]
     },
     "execution_count": 69,
     "metadata": {},
     "output_type": "execute_result"
    }
   ],
   "source": [
    "lreg_v1 = LinearRegression()\n",
    "lreg_v1.fit(X_train, y_train)"
   ]
  },
  {
   "cell_type": "markdown",
   "metadata": {},
   "source": [
    "#### Finding the model parameters"
   ]
  },
  {
   "cell_type": "code",
   "execution_count": 70,
   "metadata": {},
   "outputs": [
    {
     "data": {
      "text/plain": [
       "5.423661343838146"
      ]
     },
     "execution_count": 70,
     "metadata": {},
     "output_type": "execute_result"
    }
   ],
   "source": [
    "lreg_v1.intercept_"
   ]
  },
  {
   "cell_type": "code",
   "execution_count": 71,
   "metadata": {},
   "outputs": [
    {
     "data": {
      "text/plain": [
       "array([-0.02004083])"
      ]
     },
     "execution_count": 71,
     "metadata": {},
     "output_type": "execute_result"
    }
   ],
   "source": [
    "lreg_v1.coef_"
   ]
  },
  {
   "cell_type": "markdown",
   "metadata": {},
   "source": [
    "### Predicting on test set and evaluation model performance"
   ]
  },
  {
   "cell_type": "code",
   "execution_count": 72,
   "metadata": {},
   "outputs": [],
   "source": [
    "y_pred = lreg_v1.predict(X_test)"
   ]
  },
  {
   "cell_type": "code",
   "execution_count": 73,
   "metadata": {},
   "outputs": [],
   "source": [
    "y_df = pd.DataFrame({\"actual\": y_test,\n",
    "                     \"predicted\": y_pred,\n",
    "                     \"residual\": y_pred - y_test})"
   ]
  },
  {
   "cell_type": "code",
   "execution_count": 74,
   "metadata": {},
   "outputs": [
    {
     "data": {
      "text/html": [
       "<div>\n",
       "<style scoped>\n",
       "    .dataframe tbody tr th:only-of-type {\n",
       "        vertical-align: middle;\n",
       "    }\n",
       "\n",
       "    .dataframe tbody tr th {\n",
       "        vertical-align: top;\n",
       "    }\n",
       "\n",
       "    .dataframe thead th {\n",
       "        text-align: right;\n",
       "    }\n",
       "</style>\n",
       "<table border=\"1\" class=\"dataframe\">\n",
       "  <thead>\n",
       "    <tr style=\"text-align: right;\">\n",
       "      <th></th>\n",
       "      <th>actual</th>\n",
       "      <th>predicted</th>\n",
       "      <th>residual</th>\n",
       "    </tr>\n",
       "  </thead>\n",
       "  <tbody>\n",
       "    <tr>\n",
       "      <th>1685</th>\n",
       "      <td>4.25</td>\n",
       "      <td>4.281334</td>\n",
       "      <td>0.031334</td>\n",
       "    </tr>\n",
       "    <tr>\n",
       "      <th>773</th>\n",
       "      <td>3.24</td>\n",
       "      <td>4.762314</td>\n",
       "      <td>1.522314</td>\n",
       "    </tr>\n",
       "    <tr>\n",
       "      <th>385</th>\n",
       "      <td>5.25</td>\n",
       "      <td>4.682151</td>\n",
       "      <td>-0.567849</td>\n",
       "    </tr>\n",
       "    <tr>\n",
       "      <th>2556</th>\n",
       "      <td>2.85</td>\n",
       "      <td>5.062926</td>\n",
       "      <td>2.212926</td>\n",
       "    </tr>\n",
       "    <tr>\n",
       "      <th>1525</th>\n",
       "      <td>3.49</td>\n",
       "      <td>4.822437</td>\n",
       "      <td>1.332437</td>\n",
       "    </tr>\n",
       "    <tr>\n",
       "      <th>2927</th>\n",
       "      <td>3.99</td>\n",
       "      <td>4.121008</td>\n",
       "      <td>0.131008</td>\n",
       "    </tr>\n",
       "    <tr>\n",
       "      <th>1152</th>\n",
       "      <td>5.00</td>\n",
       "      <td>3.980722</td>\n",
       "      <td>-1.019278</td>\n",
       "    </tr>\n",
       "    <tr>\n",
       "      <th>1194</th>\n",
       "      <td>5.92</td>\n",
       "      <td>5.022845</td>\n",
       "      <td>-0.897155</td>\n",
       "    </tr>\n",
       "    <tr>\n",
       "      <th>1115</th>\n",
       "      <td>2.35</td>\n",
       "      <td>4.501783</td>\n",
       "      <td>2.151783</td>\n",
       "    </tr>\n",
       "    <tr>\n",
       "      <th>925</th>\n",
       "      <td>2.00</td>\n",
       "      <td>4.020803</td>\n",
       "      <td>2.020803</td>\n",
       "    </tr>\n",
       "  </tbody>\n",
       "</table>\n",
       "</div>"
      ],
      "text/plain": [
       "      actual  predicted  residual\n",
       "1685    4.25   4.281334  0.031334\n",
       "773     3.24   4.762314  1.522314\n",
       "385     5.25   4.682151 -0.567849\n",
       "2556    2.85   5.062926  2.212926\n",
       "1525    3.49   4.822437  1.332437\n",
       "2927    3.99   4.121008  0.131008\n",
       "1152    5.00   3.980722 -1.019278\n",
       "1194    5.92   5.022845 -0.897155\n",
       "1115    2.35   4.501783  2.151783\n",
       "925     2.00   4.020803  2.020803"
      ]
     },
     "execution_count": 74,
     "metadata": {},
     "output_type": "execute_result"
    }
   ],
   "source": [
    "y_df.sample(10, random_state = 100)"
   ]
  },
  {
   "cell_type": "markdown",
   "metadata": {},
   "source": [
    "#### What is R-quared?\n",
    "https://www.investopedia.com/terms/r/r-squared.asp"
   ]
  },
  {
   "cell_type": "code",
   "execution_count": 75,
   "metadata": {},
   "outputs": [],
   "source": [
    "from sklearn.metrics import r2_score"
   ]
  },
  {
   "cell_type": "code",
   "execution_count": 76,
   "metadata": {},
   "outputs": [
    {
     "data": {
      "text/plain": [
       "0.10299425947820684"
      ]
     },
     "execution_count": 76,
     "metadata": {},
     "output_type": "execute_result"
    }
   ],
   "source": [
    "r2_score(y_test, y_pred)"
   ]
  },
  {
   "cell_type": "markdown",
   "metadata": {},
   "source": [
    "### Participants Exercise: 1\n",
    "\n",
    "Build a model by adding the following four parameters and measure accuracy\n",
    "\n",
    "- mileage_new \n",
    "- engine_new \n",
    "- power_new\n",
    "- KM_Driven"
   ]
  },
  {
   "cell_type": "markdown",
   "metadata": {},
   "source": [
    "## Building model with all required variables (Multiple Linear Regression)"
   ]
  },
  {
   "cell_type": "markdown",
   "metadata": {},
   "source": [
    "### Feature Set Selection"
   ]
  },
  {
   "cell_type": "code",
   "execution_count": 77,
   "metadata": {},
   "outputs": [
    {
     "data": {
      "text/plain": [
       "['Location',\n",
       " 'Fuel_Type',\n",
       " 'Transmission',\n",
       " 'Owner_Type',\n",
       " 'Seats',\n",
       " 'Price',\n",
       " 'age',\n",
       " 'make',\n",
       " 'model',\n",
       " 'mileage_new',\n",
       " 'engine_new',\n",
       " 'power_new',\n",
       " 'KM_Driven']"
      ]
     },
     "execution_count": 77,
     "metadata": {},
     "output_type": "execute_result"
    }
   ],
   "source": [
    "list(cars_df.columns)"
   ]
  },
  {
   "cell_type": "code",
   "execution_count": 78,
   "metadata": {},
   "outputs": [],
   "source": [
    "x_features = ['KM_Driven', 'Fuel_Type', 'age',\n",
    "              'Transmission', 'Owner_Type', 'Seats', \n",
    "              'make', 'mileage_new', 'engine_new', \n",
    "              'power_new', 'Location']"
   ]
  },
  {
   "cell_type": "code",
   "execution_count": 79,
   "metadata": {},
   "outputs": [],
   "source": [
    "cat_features = ['Fuel_Type', \n",
    "                'Transmission', 'Owner_Type',\n",
    "                'make', 'Location']"
   ]
  },
  {
   "cell_type": "code",
   "execution_count": 80,
   "metadata": {},
   "outputs": [],
   "source": [
    "num_features = list(set(x_features) - set(cat_features))"
   ]
  },
  {
   "cell_type": "code",
   "execution_count": 81,
   "metadata": {},
   "outputs": [
    {
     "data": {
      "text/plain": [
       "['power_new', 'mileage_new', 'engine_new', 'KM_Driven', 'Seats', 'age']"
      ]
     },
     "execution_count": 81,
     "metadata": {},
     "output_type": "execute_result"
    }
   ],
   "source": [
    "num_features"
   ]
  },
  {
   "cell_type": "code",
   "execution_count": 82,
   "metadata": {},
   "outputs": [
    {
     "name": "stdout",
     "output_type": "stream",
     "text": [
      "<class 'pandas.core.frame.DataFrame'>\n",
      "RangeIndex: 3064 entries, 0 to 3063\n",
      "Data columns (total 11 columns):\n",
      " #   Column        Non-Null Count  Dtype  \n",
      "---  ------        --------------  -----  \n",
      " 0   KM_Driven     3064 non-null   int64  \n",
      " 1   Fuel_Type     3064 non-null   object \n",
      " 2   age           3064 non-null   int64  \n",
      " 3   Transmission  3064 non-null   object \n",
      " 4   Owner_Type    3064 non-null   object \n",
      " 5   Seats         3063 non-null   float64\n",
      " 6   make          3064 non-null   object \n",
      " 7   mileage_new   3064 non-null   float64\n",
      " 8   engine_new    3064 non-null   float64\n",
      " 9   power_new     3064 non-null   float64\n",
      " 10  Location      3064 non-null   object \n",
      "dtypes: float64(4), int64(2), object(5)\n",
      "memory usage: 263.4+ KB\n"
     ]
    }
   ],
   "source": [
    "cars_df[x_features].info()"
   ]
  },
  {
   "cell_type": "markdown",
   "metadata": {},
   "source": [
    "### Dropping Null Values"
   ]
  },
  {
   "cell_type": "code",
   "execution_count": 83,
   "metadata": {},
   "outputs": [],
   "source": [
    "cars_df = cars_df[x_features + ['Price']].dropna()"
   ]
  },
  {
   "cell_type": "code",
   "execution_count": 84,
   "metadata": {},
   "outputs": [
    {
     "data": {
      "text/plain": [
       "(3063, 12)"
      ]
     },
     "execution_count": 84,
     "metadata": {},
     "output_type": "execute_result"
    }
   ],
   "source": [
    "cars_df.shape"
   ]
  },
  {
   "cell_type": "code",
   "execution_count": 85,
   "metadata": {},
   "outputs": [
    {
     "data": {
      "text/html": [
       "<div>\n",
       "<style scoped>\n",
       "    .dataframe tbody tr th:only-of-type {\n",
       "        vertical-align: middle;\n",
       "    }\n",
       "\n",
       "    .dataframe tbody tr th {\n",
       "        vertical-align: top;\n",
       "    }\n",
       "\n",
       "    .dataframe thead th {\n",
       "        text-align: right;\n",
       "    }\n",
       "</style>\n",
       "<table border=\"1\" class=\"dataframe\">\n",
       "  <thead>\n",
       "    <tr style=\"text-align: right;\">\n",
       "      <th></th>\n",
       "      <th>KM_Driven</th>\n",
       "      <th>Fuel_Type</th>\n",
       "      <th>age</th>\n",
       "      <th>Transmission</th>\n",
       "      <th>Owner_Type</th>\n",
       "      <th>Seats</th>\n",
       "      <th>make</th>\n",
       "      <th>mileage_new</th>\n",
       "      <th>engine_new</th>\n",
       "      <th>power_new</th>\n",
       "      <th>Location</th>\n",
       "      <th>Price</th>\n",
       "    </tr>\n",
       "  </thead>\n",
       "  <tbody>\n",
       "    <tr>\n",
       "      <th>1218</th>\n",
       "      <td>25</td>\n",
       "      <td>Petrol</td>\n",
       "      <td>6</td>\n",
       "      <td>Manual</td>\n",
       "      <td>Second</td>\n",
       "      <td>5.0</td>\n",
       "      <td>maruti</td>\n",
       "      <td>18.50</td>\n",
       "      <td>1197.0</td>\n",
       "      <td>85.80</td>\n",
       "      <td>Pune</td>\n",
       "      <td>3.50</td>\n",
       "    </tr>\n",
       "    <tr>\n",
       "      <th>1591</th>\n",
       "      <td>57</td>\n",
       "      <td>Petrol</td>\n",
       "      <td>6</td>\n",
       "      <td>Manual</td>\n",
       "      <td>First</td>\n",
       "      <td>5.0</td>\n",
       "      <td>maruti</td>\n",
       "      <td>19.10</td>\n",
       "      <td>1197.0</td>\n",
       "      <td>85.80</td>\n",
       "      <td>Coimbatore</td>\n",
       "      <td>6.69</td>\n",
       "    </tr>\n",
       "    <tr>\n",
       "      <th>200</th>\n",
       "      <td>37</td>\n",
       "      <td>Diesel</td>\n",
       "      <td>7</td>\n",
       "      <td>Manual</td>\n",
       "      <td>First</td>\n",
       "      <td>5.0</td>\n",
       "      <td>toyota</td>\n",
       "      <td>23.59</td>\n",
       "      <td>1364.0</td>\n",
       "      <td>67.04</td>\n",
       "      <td>Bangalore</td>\n",
       "      <td>5.75</td>\n",
       "    </tr>\n",
       "    <tr>\n",
       "      <th>846</th>\n",
       "      <td>11</td>\n",
       "      <td>Petrol</td>\n",
       "      <td>4</td>\n",
       "      <td>Manual</td>\n",
       "      <td>First</td>\n",
       "      <td>5.0</td>\n",
       "      <td>maruti</td>\n",
       "      <td>18.50</td>\n",
       "      <td>1197.0</td>\n",
       "      <td>85.80</td>\n",
       "      <td>Mumbai</td>\n",
       "      <td>3.95</td>\n",
       "    </tr>\n",
       "    <tr>\n",
       "      <th>1373</th>\n",
       "      <td>38</td>\n",
       "      <td>Diesel</td>\n",
       "      <td>3</td>\n",
       "      <td>Manual</td>\n",
       "      <td>First</td>\n",
       "      <td>5.0</td>\n",
       "      <td>maruti</td>\n",
       "      <td>24.30</td>\n",
       "      <td>1248.0</td>\n",
       "      <td>88.50</td>\n",
       "      <td>Kochi</td>\n",
       "      <td>9.13</td>\n",
       "    </tr>\n",
       "    <tr>\n",
       "      <th>2978</th>\n",
       "      <td>81</td>\n",
       "      <td>Petrol</td>\n",
       "      <td>15</td>\n",
       "      <td>Manual</td>\n",
       "      <td>Second</td>\n",
       "      <td>5.0</td>\n",
       "      <td>maruti</td>\n",
       "      <td>15.90</td>\n",
       "      <td>1298.0</td>\n",
       "      <td>85.00</td>\n",
       "      <td>Ahmedabad</td>\n",
       "      <td>0.75</td>\n",
       "    </tr>\n",
       "    <tr>\n",
       "      <th>2900</th>\n",
       "      <td>79</td>\n",
       "      <td>Diesel</td>\n",
       "      <td>8</td>\n",
       "      <td>Manual</td>\n",
       "      <td>First</td>\n",
       "      <td>5.0</td>\n",
       "      <td>ford</td>\n",
       "      <td>17.80</td>\n",
       "      <td>1399.0</td>\n",
       "      <td>67.00</td>\n",
       "      <td>Kochi</td>\n",
       "      <td>3.16</td>\n",
       "    </tr>\n",
       "    <tr>\n",
       "      <th>810</th>\n",
       "      <td>79</td>\n",
       "      <td>Diesel</td>\n",
       "      <td>10</td>\n",
       "      <td>Manual</td>\n",
       "      <td>First</td>\n",
       "      <td>5.0</td>\n",
       "      <td>maruti</td>\n",
       "      <td>21.10</td>\n",
       "      <td>1248.0</td>\n",
       "      <td>73.90</td>\n",
       "      <td>Hyderabad</td>\n",
       "      <td>3.40</td>\n",
       "    </tr>\n",
       "    <tr>\n",
       "      <th>1531</th>\n",
       "      <td>65</td>\n",
       "      <td>Diesel</td>\n",
       "      <td>7</td>\n",
       "      <td>Manual</td>\n",
       "      <td>First</td>\n",
       "      <td>5.0</td>\n",
       "      <td>maruti</td>\n",
       "      <td>23.20</td>\n",
       "      <td>1248.0</td>\n",
       "      <td>73.94</td>\n",
       "      <td>Jaipur</td>\n",
       "      <td>3.75</td>\n",
       "    </tr>\n",
       "    <tr>\n",
       "      <th>775</th>\n",
       "      <td>63</td>\n",
       "      <td>Diesel</td>\n",
       "      <td>7</td>\n",
       "      <td>Manual</td>\n",
       "      <td>First</td>\n",
       "      <td>7.0</td>\n",
       "      <td>mahindra</td>\n",
       "      <td>15.96</td>\n",
       "      <td>2523.0</td>\n",
       "      <td>62.10</td>\n",
       "      <td>Jaipur</td>\n",
       "      <td>5.50</td>\n",
       "    </tr>\n",
       "  </tbody>\n",
       "</table>\n",
       "</div>"
      ],
      "text/plain": [
       "      KM_Driven Fuel_Type  age Transmission Owner_Type  Seats      make  \\\n",
       "1218         25    Petrol    6       Manual     Second    5.0    maruti   \n",
       "1591         57    Petrol    6       Manual      First    5.0    maruti   \n",
       "200          37    Diesel    7       Manual      First    5.0    toyota   \n",
       "846          11    Petrol    4       Manual      First    5.0    maruti   \n",
       "1373         38    Diesel    3       Manual      First    5.0    maruti   \n",
       "2978         81    Petrol   15       Manual     Second    5.0    maruti   \n",
       "2900         79    Diesel    8       Manual      First    5.0      ford   \n",
       "810          79    Diesel   10       Manual      First    5.0    maruti   \n",
       "1531         65    Diesel    7       Manual      First    5.0    maruti   \n",
       "775          63    Diesel    7       Manual      First    7.0  mahindra   \n",
       "\n",
       "      mileage_new  engine_new  power_new    Location  Price  \n",
       "1218        18.50      1197.0      85.80        Pune   3.50  \n",
       "1591        19.10      1197.0      85.80  Coimbatore   6.69  \n",
       "200         23.59      1364.0      67.04   Bangalore   5.75  \n",
       "846         18.50      1197.0      85.80      Mumbai   3.95  \n",
       "1373        24.30      1248.0      88.50       Kochi   9.13  \n",
       "2978        15.90      1298.0      85.00   Ahmedabad   0.75  \n",
       "2900        17.80      1399.0      67.00       Kochi   3.16  \n",
       "810         21.10      1248.0      73.90   Hyderabad   3.40  \n",
       "1531        23.20      1248.0      73.94      Jaipur   3.75  \n",
       "775         15.96      2523.0      62.10      Jaipur   5.50  "
      ]
     },
     "execution_count": 85,
     "metadata": {},
     "output_type": "execute_result"
    }
   ],
   "source": [
    "cars_df.sample(10)"
   ]
  },
  {
   "cell_type": "markdown",
   "metadata": {},
   "source": [
    "### Encoding Categorical Variables\n",
    "\n",
    "OHE: One Hot Encoding\n",
    "\n",
    "https://machinelearningmastery.com/why-one-hot-encode-data-in-machine-learning/"
   ]
  },
  {
   "cell_type": "code",
   "execution_count": 86,
   "metadata": {},
   "outputs": [],
   "source": [
    "encoded_cars_df = pd.get_dummies(cars_df[x_features], \n",
    "                                 columns=cat_features)"
   ]
  },
  {
   "cell_type": "code",
   "execution_count": 87,
   "metadata": {},
   "outputs": [
    {
     "data": {
      "text/html": [
       "<div>\n",
       "<style scoped>\n",
       "    .dataframe tbody tr th:only-of-type {\n",
       "        vertical-align: middle;\n",
       "    }\n",
       "\n",
       "    .dataframe tbody tr th {\n",
       "        vertical-align: top;\n",
       "    }\n",
       "\n",
       "    .dataframe thead th {\n",
       "        text-align: right;\n",
       "    }\n",
       "</style>\n",
       "<table border=\"1\" class=\"dataframe\">\n",
       "  <thead>\n",
       "    <tr style=\"text-align: right;\">\n",
       "      <th></th>\n",
       "      <th>KM_Driven</th>\n",
       "      <th>age</th>\n",
       "      <th>Seats</th>\n",
       "      <th>mileage_new</th>\n",
       "      <th>engine_new</th>\n",
       "      <th>power_new</th>\n",
       "      <th>Fuel_Type_Diesel</th>\n",
       "      <th>Fuel_Type_Petrol</th>\n",
       "      <th>Transmission_Automatic</th>\n",
       "      <th>Transmission_Manual</th>\n",
       "      <th>...</th>\n",
       "      <th>Location_Bangalore</th>\n",
       "      <th>Location_Chennai</th>\n",
       "      <th>Location_Coimbatore</th>\n",
       "      <th>Location_Delhi</th>\n",
       "      <th>Location_Hyderabad</th>\n",
       "      <th>Location_Jaipur</th>\n",
       "      <th>Location_Kochi</th>\n",
       "      <th>Location_Kolkata</th>\n",
       "      <th>Location_Mumbai</th>\n",
       "      <th>Location_Pune</th>\n",
       "    </tr>\n",
       "  </thead>\n",
       "  <tbody>\n",
       "    <tr>\n",
       "      <th>1654</th>\n",
       "      <td>9</td>\n",
       "      <td>4</td>\n",
       "      <td>5.0</td>\n",
       "      <td>18.90</td>\n",
       "      <td>1197.0</td>\n",
       "      <td>82.0</td>\n",
       "      <td>0</td>\n",
       "      <td>1</td>\n",
       "      <td>1</td>\n",
       "      <td>0</td>\n",
       "      <td>...</td>\n",
       "      <td>0</td>\n",
       "      <td>0</td>\n",
       "      <td>0</td>\n",
       "      <td>0</td>\n",
       "      <td>0</td>\n",
       "      <td>0</td>\n",
       "      <td>0</td>\n",
       "      <td>0</td>\n",
       "      <td>1</td>\n",
       "      <td>0</td>\n",
       "    </tr>\n",
       "    <tr>\n",
       "      <th>2652</th>\n",
       "      <td>75</td>\n",
       "      <td>7</td>\n",
       "      <td>7.0</td>\n",
       "      <td>20.77</td>\n",
       "      <td>1248.0</td>\n",
       "      <td>88.8</td>\n",
       "      <td>1</td>\n",
       "      <td>0</td>\n",
       "      <td>0</td>\n",
       "      <td>1</td>\n",
       "      <td>...</td>\n",
       "      <td>0</td>\n",
       "      <td>0</td>\n",
       "      <td>0</td>\n",
       "      <td>0</td>\n",
       "      <td>0</td>\n",
       "      <td>0</td>\n",
       "      <td>0</td>\n",
       "      <td>0</td>\n",
       "      <td>1</td>\n",
       "      <td>0</td>\n",
       "    </tr>\n",
       "    <tr>\n",
       "      <th>639</th>\n",
       "      <td>63</td>\n",
       "      <td>7</td>\n",
       "      <td>5.0</td>\n",
       "      <td>18.50</td>\n",
       "      <td>1197.0</td>\n",
       "      <td>82.9</td>\n",
       "      <td>0</td>\n",
       "      <td>1</td>\n",
       "      <td>0</td>\n",
       "      <td>1</td>\n",
       "      <td>...</td>\n",
       "      <td>0</td>\n",
       "      <td>0</td>\n",
       "      <td>0</td>\n",
       "      <td>1</td>\n",
       "      <td>0</td>\n",
       "      <td>0</td>\n",
       "      <td>0</td>\n",
       "      <td>0</td>\n",
       "      <td>0</td>\n",
       "      <td>0</td>\n",
       "    </tr>\n",
       "    <tr>\n",
       "      <th>1317</th>\n",
       "      <td>19</td>\n",
       "      <td>5</td>\n",
       "      <td>4.0</td>\n",
       "      <td>25.40</td>\n",
       "      <td>624.0</td>\n",
       "      <td>37.5</td>\n",
       "      <td>0</td>\n",
       "      <td>1</td>\n",
       "      <td>0</td>\n",
       "      <td>1</td>\n",
       "      <td>...</td>\n",
       "      <td>0</td>\n",
       "      <td>0</td>\n",
       "      <td>1</td>\n",
       "      <td>0</td>\n",
       "      <td>0</td>\n",
       "      <td>0</td>\n",
       "      <td>0</td>\n",
       "      <td>0</td>\n",
       "      <td>0</td>\n",
       "      <td>0</td>\n",
       "    </tr>\n",
       "    <tr>\n",
       "      <th>1393</th>\n",
       "      <td>82</td>\n",
       "      <td>6</td>\n",
       "      <td>5.0</td>\n",
       "      <td>23.00</td>\n",
       "      <td>1396.0</td>\n",
       "      <td>90.0</td>\n",
       "      <td>1</td>\n",
       "      <td>0</td>\n",
       "      <td>0</td>\n",
       "      <td>1</td>\n",
       "      <td>...</td>\n",
       "      <td>0</td>\n",
       "      <td>0</td>\n",
       "      <td>0</td>\n",
       "      <td>0</td>\n",
       "      <td>0</td>\n",
       "      <td>1</td>\n",
       "      <td>0</td>\n",
       "      <td>0</td>\n",
       "      <td>0</td>\n",
       "      <td>0</td>\n",
       "    </tr>\n",
       "  </tbody>\n",
       "</table>\n",
       "<p>5 rows × 41 columns</p>\n",
       "</div>"
      ],
      "text/plain": [
       "      KM_Driven  age  Seats  mileage_new  engine_new  power_new  \\\n",
       "1654          9    4    5.0        18.90      1197.0       82.0   \n",
       "2652         75    7    7.0        20.77      1248.0       88.8   \n",
       "639          63    7    5.0        18.50      1197.0       82.9   \n",
       "1317         19    5    4.0        25.40       624.0       37.5   \n",
       "1393         82    6    5.0        23.00      1396.0       90.0   \n",
       "\n",
       "      Fuel_Type_Diesel  Fuel_Type_Petrol  Transmission_Automatic  \\\n",
       "1654                 0                 1                       1   \n",
       "2652                 1                 0                       0   \n",
       "639                  0                 1                       0   \n",
       "1317                 0                 1                       0   \n",
       "1393                 1                 0                       0   \n",
       "\n",
       "      Transmission_Manual  ...  Location_Bangalore  Location_Chennai  \\\n",
       "1654                    0  ...                   0                 0   \n",
       "2652                    1  ...                   0                 0   \n",
       "639                     1  ...                   0                 0   \n",
       "1317                    1  ...                   0                 0   \n",
       "1393                    1  ...                   0                 0   \n",
       "\n",
       "      Location_Coimbatore  Location_Delhi  Location_Hyderabad  \\\n",
       "1654                    0               0                   0   \n",
       "2652                    0               0                   0   \n",
       "639                     0               1                   0   \n",
       "1317                    1               0                   0   \n",
       "1393                    0               0                   0   \n",
       "\n",
       "      Location_Jaipur  Location_Kochi  Location_Kolkata  Location_Mumbai  \\\n",
       "1654                0               0                 0                1   \n",
       "2652                0               0                 0                1   \n",
       "639                 0               0                 0                0   \n",
       "1317                0               0                 0                0   \n",
       "1393                1               0                 0                0   \n",
       "\n",
       "      Location_Pune  \n",
       "1654              0  \n",
       "2652              0  \n",
       "639               0  \n",
       "1317              0  \n",
       "1393              0  \n",
       "\n",
       "[5 rows x 41 columns]"
      ]
     },
     "execution_count": 87,
     "metadata": {},
     "output_type": "execute_result"
    }
   ],
   "source": [
    "encoded_cars_df.sample(5)"
   ]
  },
  {
   "cell_type": "code",
   "execution_count": 88,
   "metadata": {},
   "outputs": [
    {
     "data": {
      "text/plain": [
       "Index(['KM_Driven', 'age', 'Seats', 'mileage_new', 'engine_new', 'power_new',\n",
       "       'Fuel_Type_Diesel', 'Fuel_Type_Petrol', 'Transmission_Automatic',\n",
       "       'Transmission_Manual', 'Owner_Type_First', 'Owner_Type_Fourth & Above',\n",
       "       'Owner_Type_Second', 'Owner_Type_Third', 'make_ambassador',\n",
       "       'make_chevrolet', 'make_datsun', 'make_fiat', 'make_ford', 'make_honda',\n",
       "       'make_hyundai', 'make_mahindra', 'make_maruti', 'make_mitsubishi',\n",
       "       'make_nissan', 'make_renault', 'make_skoda', 'make_tata', 'make_toyota',\n",
       "       'make_volkswagen', 'Location_Ahmedabad', 'Location_Bangalore',\n",
       "       'Location_Chennai', 'Location_Coimbatore', 'Location_Delhi',\n",
       "       'Location_Hyderabad', 'Location_Jaipur', 'Location_Kochi',\n",
       "       'Location_Kolkata', 'Location_Mumbai', 'Location_Pune'],\n",
       "      dtype='object')"
      ]
     },
     "execution_count": 88,
     "metadata": {},
     "output_type": "execute_result"
    }
   ],
   "source": [
    "encoded_cars_df.columns"
   ]
  },
  {
   "cell_type": "code",
   "execution_count": 89,
   "metadata": {},
   "outputs": [
    {
     "data": {
      "text/plain": [
       "(3063, 41)"
      ]
     },
     "execution_count": 89,
     "metadata": {},
     "output_type": "execute_result"
    }
   ],
   "source": [
    "encoded_cars_df.shape"
   ]
  },
  {
   "cell_type": "markdown",
   "metadata": {},
   "source": [
    "### Setting X and y variables"
   ]
  },
  {
   "cell_type": "code",
   "execution_count": 90,
   "metadata": {},
   "outputs": [],
   "source": [
    "X = encoded_cars_df\n",
    "y = cars_df['Price']"
   ]
  },
  {
   "cell_type": "markdown",
   "metadata": {},
   "source": [
    "### Data Splitting"
   ]
  },
  {
   "cell_type": "code",
   "execution_count": 91,
   "metadata": {},
   "outputs": [],
   "source": [
    "from sklearn.model_selection import train_test_split"
   ]
  },
  {
   "cell_type": "code",
   "execution_count": 92,
   "metadata": {},
   "outputs": [],
   "source": [
    "X_train, X_test, y_train, y_test = train_test_split(X,\n",
    "                                                    y,\n",
    "                                                    train_size = 0.8,\n",
    "                                                    random_state = 80)"
   ]
  },
  {
   "cell_type": "code",
   "execution_count": 93,
   "metadata": {},
   "outputs": [
    {
     "data": {
      "text/plain": [
       "(2450, 41)"
      ]
     },
     "execution_count": 93,
     "metadata": {},
     "output_type": "execute_result"
    }
   ],
   "source": [
    "X_train.shape"
   ]
  },
  {
   "cell_type": "code",
   "execution_count": 94,
   "metadata": {},
   "outputs": [
    {
     "data": {
      "text/plain": [
       "(613, 41)"
      ]
     },
     "execution_count": 94,
     "metadata": {},
     "output_type": "execute_result"
    }
   ],
   "source": [
    "X_test.shape"
   ]
  },
  {
   "cell_type": "markdown",
   "metadata": {},
   "source": [
    "### Multiple Linear Regression Models"
   ]
  },
  {
   "cell_type": "code",
   "execution_count": 95,
   "metadata": {},
   "outputs": [],
   "source": [
    "from sklearn.linear_model import LinearRegression"
   ]
  },
  {
   "cell_type": "code",
   "execution_count": 96,
   "metadata": {},
   "outputs": [],
   "source": [
    "lreg_v1 = LinearRegression()"
   ]
  },
  {
   "cell_type": "code",
   "execution_count": 97,
   "metadata": {},
   "outputs": [
    {
     "data": {
      "text/plain": [
       "LinearRegression()"
      ]
     },
     "execution_count": 97,
     "metadata": {},
     "output_type": "execute_result"
    }
   ],
   "source": [
    "lreg_v1.fit(X_train, y_train)"
   ]
  },
  {
   "cell_type": "markdown",
   "metadata": {},
   "source": [
    "### Understanding model parameters"
   ]
  },
  {
   "cell_type": "code",
   "execution_count": 98,
   "metadata": {},
   "outputs": [
    {
     "data": {
      "text/plain": [
       "1.5057285766843322"
      ]
     },
     "execution_count": 98,
     "metadata": {},
     "output_type": "execute_result"
    }
   ],
   "source": [
    "lreg_v1.intercept_"
   ]
  },
  {
   "cell_type": "code",
   "execution_count": 99,
   "metadata": {},
   "outputs": [
    {
     "data": {
      "text/plain": [
       "array([-1.13136130e-02, -3.20488739e-01,  1.53351467e-01, -2.17807208e-02,\n",
       "        7.37548568e-04,  5.15996478e-02,  4.89049580e-01, -4.89049580e-01,\n",
       "        1.45127512e-01, -1.45127512e-01,  2.40689497e-01, -7.29365391e-01,\n",
       "        6.08551257e-02,  4.27820768e-01, -2.27595720e-15, -5.63365216e-01,\n",
       "       -8.15014411e-01, -4.92909840e-01,  1.14280989e-01, -9.50701227e-03,\n",
       "        2.48687680e-01, -3.70986026e-01,  7.90286575e-01, -5.55111512e-17,\n",
       "        6.18488670e-02,  1.87009173e-01,  2.77660787e-01, -7.73329715e-01,\n",
       "        1.03371479e+00,  3.11623360e-01, -1.41859530e-01,  5.12045781e-01,\n",
       "        4.14193425e-02,  8.12762314e-01, -4.29798906e-01,  3.99523035e-01,\n",
       "       -1.92318865e-02,  2.53134679e-01, -1.05490409e+00, -2.51393680e-01,\n",
       "       -1.21697060e-01])"
      ]
     },
     "execution_count": 99,
     "metadata": {},
     "output_type": "execute_result"
    }
   ],
   "source": [
    "lreg_v1.coef_"
   ]
  },
  {
   "cell_type": "code",
   "execution_count": 100,
   "metadata": {},
   "outputs": [
    {
     "data": {
      "text/plain": [
       "{'KM_Driven': -0.011,\n",
       " 'age': -0.32,\n",
       " 'Seats': 0.153,\n",
       " 'mileage_new': -0.022,\n",
       " 'engine_new': 0.001,\n",
       " 'power_new': 0.052,\n",
       " 'Fuel_Type_Diesel': 0.489,\n",
       " 'Fuel_Type_Petrol': -0.489,\n",
       " 'Transmission_Automatic': 0.145,\n",
       " 'Transmission_Manual': -0.145,\n",
       " 'Owner_Type_First': 0.241,\n",
       " 'Owner_Type_Fourth & Above': -0.729,\n",
       " 'Owner_Type_Second': 0.061,\n",
       " 'Owner_Type_Third': 0.428,\n",
       " 'make_ambassador': -0.0,\n",
       " 'make_chevrolet': -0.563,\n",
       " 'make_datsun': -0.815,\n",
       " 'make_fiat': -0.493,\n",
       " 'make_ford': 0.114,\n",
       " 'make_honda': -0.01,\n",
       " 'make_hyundai': 0.249,\n",
       " 'make_mahindra': -0.371,\n",
       " 'make_maruti': 0.79,\n",
       " 'make_mitsubishi': -0.0,\n",
       " 'make_nissan': 0.062,\n",
       " 'make_renault': 0.187,\n",
       " 'make_skoda': 0.278,\n",
       " 'make_tata': -0.773,\n",
       " 'make_toyota': 1.034,\n",
       " 'make_volkswagen': 0.312,\n",
       " 'Location_Ahmedabad': -0.142,\n",
       " 'Location_Bangalore': 0.512,\n",
       " 'Location_Chennai': 0.041,\n",
       " 'Location_Coimbatore': 0.813,\n",
       " 'Location_Delhi': -0.43,\n",
       " 'Location_Hyderabad': 0.4,\n",
       " 'Location_Jaipur': -0.019,\n",
       " 'Location_Kochi': 0.253,\n",
       " 'Location_Kolkata': -1.055,\n",
       " 'Location_Mumbai': -0.251,\n",
       " 'Location_Pune': -0.122}"
      ]
     },
     "execution_count": 100,
     "metadata": {},
     "output_type": "execute_result"
    }
   ],
   "source": [
    "dict(zip(X_train.columns, \n",
    "         np.round(lreg_v1.coef_, 3)))"
   ]
  },
  {
   "cell_type": "markdown",
   "metadata": {},
   "source": [
    "### Predict on test set"
   ]
  },
  {
   "cell_type": "code",
   "execution_count": 101,
   "metadata": {},
   "outputs": [],
   "source": [
    "y_pred = lreg_v1.predict(X_test)"
   ]
  },
  {
   "cell_type": "code",
   "execution_count": 102,
   "metadata": {},
   "outputs": [],
   "source": [
    "y_df = pd.DataFrame({\"actual\": y_test,\n",
    "                     \"predicted\": y_pred,\n",
    "                     \"residual\": y_pred - y_test})"
   ]
  },
  {
   "cell_type": "code",
   "execution_count": 103,
   "metadata": {},
   "outputs": [
    {
     "data": {
      "text/html": [
       "<div>\n",
       "<style scoped>\n",
       "    .dataframe tbody tr th:only-of-type {\n",
       "        vertical-align: middle;\n",
       "    }\n",
       "\n",
       "    .dataframe tbody tr th {\n",
       "        vertical-align: top;\n",
       "    }\n",
       "\n",
       "    .dataframe thead th {\n",
       "        text-align: right;\n",
       "    }\n",
       "</style>\n",
       "<table border=\"1\" class=\"dataframe\">\n",
       "  <thead>\n",
       "    <tr style=\"text-align: right;\">\n",
       "      <th></th>\n",
       "      <th>actual</th>\n",
       "      <th>predicted</th>\n",
       "      <th>residual</th>\n",
       "    </tr>\n",
       "  </thead>\n",
       "  <tbody>\n",
       "    <tr>\n",
       "      <th>1686</th>\n",
       "      <td>4.45</td>\n",
       "      <td>4.885227</td>\n",
       "      <td>0.435227</td>\n",
       "    </tr>\n",
       "    <tr>\n",
       "      <th>773</th>\n",
       "      <td>3.24</td>\n",
       "      <td>3.762809</td>\n",
       "      <td>0.522809</td>\n",
       "    </tr>\n",
       "    <tr>\n",
       "      <th>385</th>\n",
       "      <td>5.25</td>\n",
       "      <td>4.375534</td>\n",
       "      <td>-0.874466</td>\n",
       "    </tr>\n",
       "    <tr>\n",
       "      <th>2556</th>\n",
       "      <td>2.85</td>\n",
       "      <td>3.777296</td>\n",
       "      <td>0.927296</td>\n",
       "    </tr>\n",
       "    <tr>\n",
       "      <th>1526</th>\n",
       "      <td>6.43</td>\n",
       "      <td>5.416074</td>\n",
       "      <td>-1.013926</td>\n",
       "    </tr>\n",
       "    <tr>\n",
       "      <th>2234</th>\n",
       "      <td>4.30</td>\n",
       "      <td>4.770820</td>\n",
       "      <td>0.470820</td>\n",
       "    </tr>\n",
       "    <tr>\n",
       "      <th>1153</th>\n",
       "      <td>5.50</td>\n",
       "      <td>5.648239</td>\n",
       "      <td>0.148239</td>\n",
       "    </tr>\n",
       "    <tr>\n",
       "      <th>1195</th>\n",
       "      <td>6.29</td>\n",
       "      <td>5.789915</td>\n",
       "      <td>-0.500085</td>\n",
       "    </tr>\n",
       "    <tr>\n",
       "      <th>1116</th>\n",
       "      <td>2.85</td>\n",
       "      <td>3.817765</td>\n",
       "      <td>0.967765</td>\n",
       "    </tr>\n",
       "    <tr>\n",
       "      <th>925</th>\n",
       "      <td>2.00</td>\n",
       "      <td>1.269926</td>\n",
       "      <td>-0.730074</td>\n",
       "    </tr>\n",
       "  </tbody>\n",
       "</table>\n",
       "</div>"
      ],
      "text/plain": [
       "      actual  predicted  residual\n",
       "1686    4.45   4.885227  0.435227\n",
       "773     3.24   3.762809  0.522809\n",
       "385     5.25   4.375534 -0.874466\n",
       "2556    2.85   3.777296  0.927296\n",
       "1526    6.43   5.416074 -1.013926\n",
       "2234    4.30   4.770820  0.470820\n",
       "1153    5.50   5.648239  0.148239\n",
       "1195    6.29   5.789915 -0.500085\n",
       "1116    2.85   3.817765  0.967765\n",
       "925     2.00   1.269926 -0.730074"
      ]
     },
     "execution_count": 103,
     "metadata": {},
     "output_type": "execute_result"
    }
   ],
   "source": [
    "y_df.sample(10, random_state = 100)"
   ]
  },
  {
   "cell_type": "markdown",
   "metadata": {},
   "source": [
    "### Measuring Accuracy"
   ]
  },
  {
   "cell_type": "code",
   "execution_count": 104,
   "metadata": {},
   "outputs": [],
   "source": [
    "from sklearn.metrics import mean_squared_error, r2_score"
   ]
  },
  {
   "cell_type": "code",
   "execution_count": 105,
   "metadata": {},
   "outputs": [],
   "source": [
    "mse_v1 = mean_squared_error(y_test, y_pred)"
   ]
  },
  {
   "cell_type": "code",
   "execution_count": 106,
   "metadata": {},
   "outputs": [
    {
     "data": {
      "text/plain": [
       "0.8408560169266156"
      ]
     },
     "execution_count": 106,
     "metadata": {},
     "output_type": "execute_result"
    }
   ],
   "source": [
    "mse_v1"
   ]
  },
  {
   "cell_type": "code",
   "execution_count": 108,
   "metadata": {},
   "outputs": [],
   "source": [
    "rmse_v1 = np.sqrt(mse_v1)"
   ]
  },
  {
   "cell_type": "code",
   "execution_count": 109,
   "metadata": {},
   "outputs": [
    {
     "data": {
      "text/plain": [
       "0.9169820155960615"
      ]
     },
     "execution_count": 109,
     "metadata": {},
     "output_type": "execute_result"
    }
   ],
   "source": [
    "rmse_v1"
   ]
  },
  {
   "cell_type": "markdown",
   "metadata": {},
   "source": [
    "### Participant Exercise: 2\n",
    "\n",
    "Take different training set, build model and measure the model accuracy. But, how to sample differenent training and test sets?\n",
    "- Change the random_state to different numbers while training and test splits and then measure the r2 values.\n",
    "- Repeat the above process for 5 different random_states and make a note of the r2 values."
   ]
  },
  {
   "cell_type": "markdown",
   "metadata": {},
   "source": [
    "### K-FOLD Cross Validation"
   ]
  },
  {
   "cell_type": "code",
   "execution_count": 113,
   "metadata": {},
   "outputs": [
    {
     "data": {
      "text/plain": [
       "0.7918317807757219"
      ]
     },
     "execution_count": 113,
     "metadata": {},
     "output_type": "execute_result"
    }
   ],
   "source": [
    "from sklearn.model_selection import cross_val_score\n",
    "\n",
    "scores = cross_val_score(LinearRegression(),\n",
    "                         X_train,\n",
    "                         y_train,\n",
    "                         cv = 10,\n",
    "                         scoring = 'r2')\n",
    "scores.mean()"
   ]
  },
  {
   "cell_type": "code",
   "execution_count": 114,
   "metadata": {},
   "outputs": [
    {
     "data": {
      "text/plain": [
       "array([0.79622623, 0.8031299 , 0.78422099, 0.80083125, 0.80240176,\n",
       "       0.79861696, 0.7985186 , 0.77474542, 0.78975783, 0.76986886])"
      ]
     },
     "execution_count": 114,
     "metadata": {},
     "output_type": "execute_result"
    }
   ],
   "source": [
    "scores"
   ]
  },
  {
   "cell_type": "code",
   "execution_count": 115,
   "metadata": {},
   "outputs": [
    {
     "data": {
      "text/plain": [
       "0.7888050039790832"
      ]
     },
     "execution_count": 115,
     "metadata": {},
     "output_type": "execute_result"
    }
   ],
   "source": [
    "r2_score(y_test, y_pred)"
   ]
  },
  {
   "cell_type": "markdown",
   "metadata": {},
   "source": [
    "### What are the reasons for the remaining error\n",
    "\n",
    "1. More factors \n",
    "2. More samples \n",
    "3. Complex Models : Try other models\n",
    "4. Feature Engineering - Derive new features (factors) from existing features (factors)\n",
    "5. Noise (randomness)\n",
    "   "
   ]
  },
  {
   "cell_type": "markdown",
   "metadata": {},
   "source": [
    "### Saving the model"
   ]
  },
  {
   "cell_type": "code",
   "execution_count": 70,
   "metadata": {},
   "outputs": [],
   "source": [
    "class CarPredictionModel():\n",
    "    \n",
    "    def __init__(self, model, features, rmse):\n",
    "        self.model = model\n",
    "        self.features = features\n",
    "        self.rmse = rmse"
   ]
  },
  {
   "cell_type": "code",
   "execution_count": 71,
   "metadata": {},
   "outputs": [],
   "source": [
    "my_model = CarPredictionModel(lreg_v1, list(X_train.columns), rmse_v1)"
   ]
  },
  {
   "cell_type": "code",
   "execution_count": 75,
   "metadata": {},
   "outputs": [
    {
     "data": {
      "text/plain": [
       "0.9877497605646017"
      ]
     },
     "execution_count": 75,
     "metadata": {},
     "output_type": "execute_result"
    }
   ],
   "source": [
    "my_model.rmse"
   ]
  },
  {
   "cell_type": "code",
   "execution_count": null,
   "metadata": {},
   "outputs": [],
   "source": [
    "# Uncomment this code for older version of sklearn\n",
    "#from sklearn.externals import joblib\n",
    "#joblib.dump(my_model, './cars.pkl')"
   ]
  },
  {
   "cell_type": "code",
   "execution_count": 76,
   "metadata": {},
   "outputs": [],
   "source": [
    "from joblib import dump"
   ]
  },
  {
   "cell_type": "code",
   "execution_count": 77,
   "metadata": {},
   "outputs": [
    {
     "data": {
      "text/plain": [
       "['./cars.pkl']"
      ]
     },
     "execution_count": 77,
     "metadata": {},
     "output_type": "execute_result"
    }
   ],
   "source": [
    "dump(my_model, './cars.pkl')"
   ]
  },
  {
   "cell_type": "markdown",
   "metadata": {},
   "source": [
    "### Participant Exercise: 3"
   ]
  },
  {
   "cell_type": "markdown",
   "metadata": {},
   "source": [
    "1. Removing all cars prior to 2010\n",
    "2. Add the car model (cateorical variable) to the list of x features.\n",
    "3. Build a new linear regression model\n",
    "4. Predict on test set and measure the accuracy (RMSE and R Squared values)\n",
    "5. Do the cross Validation and find the mean and std of the r2 values"
   ]
  },
  {
   "cell_type": "markdown",
   "metadata": {},
   "source": [
    "## Building KNN Model"
   ]
  },
  {
   "cell_type": "code",
   "execution_count": 120,
   "metadata": {},
   "outputs": [
    {
     "data": {
      "image/png": "[encoded data removed]",
      "text/plain": [
       "<Figure size 360x360 with 1 Axes>"
      ]
     },
     "metadata": {
      "needs_background": "light"
     },
     "output_type": "display_data"
    }
   ],
   "source": [
    "sn.lmplot( data = cars_df.sample(50),\n",
    "           x = \"mileage_new\",\n",
    "           y = 'power_new',\n",
    "           fit_reg = False);"
   ]
  },
  {
   "cell_type": "markdown",
   "metadata": {},
   "source": [
    "### Scaling the data\n",
    "\n",
    "- Min Max Scaler\n",
    "- Standard Scaler"
   ]
  },
  {
   "cell_type": "code",
   "execution_count": 92,
   "metadata": {},
   "outputs": [],
   "source": [
    "from sklearn.preprocessing import MinMaxScaler"
   ]
  },
  {
   "cell_type": "code",
   "execution_count": 93,
   "metadata": {},
   "outputs": [],
   "source": [
    "scaler = MinMaxScaler()"
   ]
  },
  {
   "cell_type": "code",
   "execution_count": 94,
   "metadata": {},
   "outputs": [
    {
     "data": {
      "text/plain": [
       "MinMaxScaler()"
      ]
     },
     "execution_count": 94,
     "metadata": {},
     "output_type": "execute_result"
    }
   ],
   "source": [
    "scaler.fit(X_train)"
   ]
  },
  {
   "cell_type": "code",
   "execution_count": 99,
   "metadata": {},
   "outputs": [],
   "source": [
    "x_train_scaled = scaler.transform(X_train)\n",
    "x_test_scaled = scaler.transform(X_test)"
   ]
  },
  {
   "cell_type": "code",
   "execution_count": 123,
   "metadata": {},
   "outputs": [
    {
     "data": {
      "text/plain": [
       "(2472, 41)"
      ]
     },
     "execution_count": 123,
     "metadata": {},
     "output_type": "execute_result"
    }
   ],
   "source": [
    "x_train_scaled.shape"
   ]
  },
  {
   "cell_type": "markdown",
   "metadata": {},
   "source": [
    "### Build the model"
   ]
  },
  {
   "cell_type": "code",
   "execution_count": 109,
   "metadata": {},
   "outputs": [],
   "source": [
    "from sklearn.neighbors import KNeighborsRegressor"
   ]
  },
  {
   "cell_type": "code",
   "execution_count": 116,
   "metadata": {},
   "outputs": [],
   "source": [
    "knn_v1 = KNeighborsRegressor(n_neighbors=10,\n",
    "                             weights='distance')"
   ]
  },
  {
   "cell_type": "code",
   "execution_count": 117,
   "metadata": {},
   "outputs": [
    {
     "data": {
      "text/plain": [
       "KNeighborsRegressor(n_neighbors=10, weights='distance')"
      ]
     },
     "execution_count": 117,
     "metadata": {},
     "output_type": "execute_result"
    }
   ],
   "source": [
    "knn_v1.fit(x_train_scaled, y_train)"
   ]
  },
  {
   "cell_type": "markdown",
   "metadata": {},
   "source": [
    "### Predicting on test data and calculating accuracy"
   ]
  },
  {
   "cell_type": "code",
   "execution_count": 118,
   "metadata": {},
   "outputs": [],
   "source": [
    "y_knn_pred = knn_v1.predict(x_test_scaled)"
   ]
  },
  {
   "cell_type": "code",
   "execution_count": 119,
   "metadata": {},
   "outputs": [],
   "source": [
    "mse_knn = mean_squared_error(y_test, y_knn_pred)"
   ]
  },
  {
   "cell_type": "code",
   "execution_count": 120,
   "metadata": {},
   "outputs": [
    {
     "data": {
      "text/plain": [
       "0.9860376044076932"
      ]
     },
     "execution_count": 120,
     "metadata": {},
     "output_type": "execute_result"
    }
   ],
   "source": [
    "np.sqrt(mse_knn)"
   ]
  },
  {
   "cell_type": "code",
   "execution_count": 121,
   "metadata": {},
   "outputs": [
    {
     "data": {
      "text/plain": [
       "0.7863056864661995"
      ]
     },
     "execution_count": 121,
     "metadata": {},
     "output_type": "execute_result"
    }
   ],
   "source": [
    "r2_score(y_test, y_knn_pred)"
   ]
  },
  {
   "cell_type": "markdown",
   "metadata": {},
   "source": [
    "### Participant Exercise: 4\n",
    "\n",
    "Finding best params\n",
    "\n",
    "- Iterate through a list of possible K values. For example: 3 through 15\n",
    "- Build model for each k value, predict on test set and measure it's accuracy\n",
    "- Print the k value for which r2 is maximum"
   ]
  },
  {
   "cell_type": "code",
   "execution_count": null,
   "metadata": {},
   "outputs": [],
   "source": []
  }
 ],
 "metadata": {
  "kernelspec": {
   "display_name": "Python 3",
   "language": "python",
   "name": "python3"
  },
  "language_info": {
   "codemirror_mode": {
    "name": "ipython",
    "version": 3
   },
   "file_extension": ".py",
   "mimetype": "text/x-python",
   "name": "python",
   "nbconvert_exporter": "python",
   "pygments_lexer": "ipython3",
   "version": "3.8.3"
  }
 },
 "nbformat": 4,
 "nbformat_minor": 4
}
